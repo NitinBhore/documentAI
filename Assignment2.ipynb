{
 "cells": [
  {
   "cell_type": "code",
   "execution_count": 2,
   "id": "a4609b01-7fe8-4d20-98f8-0ca14681eb2e",
   "metadata": {},
   "outputs": [],
   "source": [
    "import tabula\n",
    "import os\n",
    "import pandas as pd\n",
    "pdf_folder = r\"C:\\Users\\Admin\\Downloads\\null\\New folder\"\n",
    "pdf_files = [os.path.join(pdf_folder, file) for file in os.listdir(pdf_folder) if file.endswith('.pdf')]\n"
   ]
  },
  {
   "cell_type": "code",
   "execution_count": 3,
   "id": "f80c1822-fa52-4fdd-92c1-721e71e886d4",
   "metadata": {},
   "outputs": [],
   "source": [
    "def extract_and_transform_tables(pdf_file):\n",
    "    tables = tabula.read_pdf(pdf_file, pages='all', multiple_tables=True)\n",
    "    transformed_tables = []\n",
    "\n",
    "    for table in tables:\n",
    "        if not table.empty:\n",
    "            dimension_columns = []\n",
    "            measure_columns = []\n",
    "\n",
    "            for column in table.columns:\n",
    "                column_values = table[column].astype(str)  # Convert column values to strings\n",
    "                if column_values.str.replace(',', '', 1).str.replace('.', '', 1).str.isnumeric().all():\n",
    "                    measure_columns.append(f\"{column}:{','.join(column_values)}\")\n",
    "                else:\n",
    "                    dimension_columns.append(f\"{column}:{','.join(column_values)}\")\n",
    "\n",
    "            transformed_tables.append({\n",
    "                'Dimension': ', '.join(dimension_columns),\n",
    "                'Measures': ', '.join(measure_columns)\n",
    "            })\n",
    "\n",
    "    return pd.DataFrame(transformed_tables)\n"
   ]
  },
  {
   "cell_type": "code",
   "execution_count": 4,
   "id": "2172adf2-4a9f-4cd5-95d5-b4059732ad74",
   "metadata": {},
   "outputs": [],
   "source": [
    "result_df = pd.DataFrame()\n",
    "\n",
    "for pdf_path in pdf_files:\n",
    "    df = extract_and_transform_tables(pdf_path)\n",
    "    result_df = pd.concat([result_df, df], ignore_index=True)\n",
    "\n",
    "result_df.to_csv('assignment2_result.csv', index=False)"
   ]
  },
  {
   "cell_type": "code",
   "execution_count": 9,
   "id": "4f2f1f56-a5e2-4571-82f0-f57c02478351",
   "metadata": {},
   "outputs": [],
   "source": [
    "#################Second Approach ##############################"
   ]
  },
  {
   "cell_type": "code",
   "execution_count": null,
   "id": "036b9413-23e4-44f8-a099-44b79640eb4f",
   "metadata": {},
   "outputs": [],
   "source": [
    "import pdfplumber\n",
    "import os\n",
    "\n",
    "def extract_and_transform_tables(pdf_file):\n",
    "    pdf = pdfplumber.open(pdf_file)\n",
    "    transformed_tables = []\n",
    "\n",
    "    for page in pdf.pages:\n",
    "        tables = page.extract_tables()\n",
    "\n",
    "        for table in tables:\n",
    "            dimension_columns = []\n",
    "            measure_columns = []\n",
    "\n",
    "            for row in table:\n",
    "                for cell in row:\n",
    "                    if cell is not None:\n",
    "                        if row.index(cell) % 2 == 0:\n",
    "                            dimension_columns.append(cell)\n",
    "                        else:\n",
    "                            measure_columns.append(cell)\n",
    "\n",
    "            # Join non-empty cells into strings\n",
    "            dimension_str = ', '.join(cell for cell in dimension_columns if cell is not None)\n",
    "            measure_str = ', '.join(cell for cell in measure_columns if cell is not None)\n",
    "\n",
    "            transformed_tables.append({\n",
    "                'Dimension': dimension_str,\n",
    "                'Measures': measure_str\n",
    "            })\n",
    "\n",
    "    return pd.DataFrame(transformed_tables)\n",
    "\n",
    "# Process all PDF files in a folder\n",
    "pdf_folder = 'pdf_null'\n",
    "pdf_files = [os.path.join(pdf_folder, file) for file in os.listdir(pdf_folder) if file.endswith('.pdf')]\n",
    "\n",
    "result_df = pd.DataFrame()\n",
    "\n",
    "for pdf_path in pdf_files:\n",
    "    df = extract_and_transform_tables(pdf_path)\n",
    "    result_df = pd.concat([result_df, df], ignore_index=True)\n",
    "\n",
    "result_df.to_csv('assignment2_result.csv', index=False)\n"
   ]
  },
  {
   "cell_type": "code",
   "execution_count": null,
   "id": "a49ef9f2-c98b-4b8b-87c6-865d6d2c6e01",
   "metadata": {},
   "outputs": [],
   "source": []
  }
 ],
 "metadata": {
  "kernelspec": {
   "display_name": "danish",
   "language": "python",
   "name": "danish"
  },
  "language_info": {
   "codemirror_mode": {
    "name": "ipython",
    "version": 3
   },
   "file_extension": ".py",
   "mimetype": "text/x-python",
   "name": "python",
   "nbconvert_exporter": "python",
   "pygments_lexer": "ipython3",
   "version": "3.8.18"
  }
 },
 "nbformat": 4,
 "nbformat_minor": 5
}
