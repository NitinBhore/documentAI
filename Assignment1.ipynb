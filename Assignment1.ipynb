{
 "cells": [
  {
   "cell_type": "code",
   "execution_count": 12,
   "id": "d80f6f6b",
   "metadata": {},
   "outputs": [
    {
     "name": "stderr",
     "output_type": "stream",
     "text": [
      "[nltk_data] Downloading package punkt to\n",
      "[nltk_data]     C:\\Users\\Admin\\AppData\\Roaming\\nltk_data...\n",
      "[nltk_data]   Package punkt is already up-to-date!\n"
     ]
    }
   ],
   "source": [
    "import fitz  # PyMuPDF\n",
    "import spacy\n",
    "import re\n",
    "import pandas as pd\n",
    "import nltk\n",
    "import os\n",
    "from nltk.tokenize import sent_tokenize, word_tokenize\n",
    "\n",
    "# Initialize spaCy and NLTK\n",
    "nlp = spacy.load(\"en_core_web_sm\")\n",
    "nltk.download(\"punkt\")\n",
    "\n",
    "def extract_text_from_pdf(pdf_path):\n",
    "    pdf_document = fitz.open(pdf_path)\n",
    "    \n",
    "    data = {'File Name': [], 'Page_number': [], 'Paragraphs': [], 'Num_Flag': [], 'num_list': [], 'Keywords': []}\n",
    "    \n",
    "    for page_num in range(pdf_document.page_count):\n",
    "        page = pdf_document.load_page(page_num)\n",
    "        text = page.get_text()\n",
    "        \n",
    "        # Split the text into paragraphs\n",
    "        paragraphs = re.split(r'\\n\\n+', text)\n",
    "        \n",
    "        for paragraph in paragraphs:\n",
    "            # Clean the paragraph by removing extra white spaces, newlines, and other unwanted characters\n",
    "            paragraph = re.sub(r'\\s+', ' ', paragraph).strip()\n",
    "            \n",
    "            # Store the paragraph in the DataFrame\n",
    "            data['File Name'].append(pdf_path)\n",
    "            data['Page_number'].append(page_num)\n",
    "            data['Paragraphs'].append(paragraph)\n",
    "            \n",
    "            # Check for numerical information\n",
    "            num_flag = False\n",
    "            num_list = re.findall(r'\\b\\d+\\b', paragraph)  # Extract all numerical values\n",
    "            if num_list:\n",
    "                num_flag = True\n",
    "            \n",
    "            data['Num_Flag'].append(num_flag)\n",
    "            data['num_list'].append(','.join(num_list))  # Join numerical values into a single string\n",
    "            \n",
    "            # Extract keywords using spaCy (modify this as needed)\n",
    "            doc = nlp(paragraph)\n",
    "            keywords = [ent.text for ent in doc.ents]\n",
    "            data['Keywords'].append(','.join(keywords))  # Join keywords into a single string\n",
    "    \n",
    "    pdf_document.close()\n",
    "    \n",
    "    # Create a DataFrame from the collected data\n",
    "    df = pd.DataFrame(data)\n",
    "    \n",
    "    return df\n",
    "\n",
    "# Process all PDF files in a folder\n",
    "pdf_folder = r\"C:\\Users\\Admin\\Downloads\\null\\\"\n",
    "pdf_files = [os.path.join(pdf_folder, file) for file in os.listdir(pdf_folder) if file.endswith('.pdf')]\n",
    "\n",
    "result_df = pd.DataFrame()\n",
    "\n",
    "for pdf_path in pdf_files:\n",
    "    df = extract_text_from_pdf(pdf_path)\n",
    "    result_df = pd.concat([result_df, df], ignore_index=True)\n",
    "\n",
    "# Data Cleaning\n",
    "result_df['Paragraphs'] = result_df['Paragraphs'].apply(lambda x: ' '.join(word_tokenize(x)))\n",
    "\n",
    "# Export the processed data to a CSV file\n",
    "result_df.to_csv('processed_data_1.csv', index=False)\n"
   ]
  },
  {
   "cell_type": "code",
   "execution_count": null,
   "id": "10014087",
   "metadata": {},
   "outputs": [],
   "source": []
  },
  {
   "cell_type": "code",
   "execution_count": null,
   "id": "01e2446b",
   "metadata": {},
   "outputs": [],
   "source": []
  }
 ],
 "metadata": {
  "kernelspec": {
   "display_name": "danish",
   "language": "python",
   "name": "danish"
  },
  "language_info": {
   "codemirror_mode": {
    "name": "ipython",
    "version": 3
   },
   "file_extension": ".py",
   "mimetype": "text/x-python",
   "name": "python",
   "nbconvert_exporter": "python",
   "pygments_lexer": "ipython3",
   "version": "3.8.18"
  }
 },
 "nbformat": 4,
 "nbformat_minor": 5
}
